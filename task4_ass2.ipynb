{
 "cells": [
  {
   "cell_type": "markdown",
   "metadata": {},
   "source": [
    "# Cleansing and Integrating Raw Data Task 4"
   ]
  },
  {
   "cell_type": "markdown",
   "metadata": {},
   "source": [
   
    "\n",
    "Date: Sunday, 13 May 2018 \n",
    "\n",
    "Environment: Python 3.6.4 and Anaconda3-5.1.0 (64-bit)\n",
    "\n",
    "Libraries used:\n",
    "* pandas 0.22.0 (for data frame, included in Anaconda Python 3.6) \n",
    "* math\n",
    "* seaborn\n",
    "* matplotlib.pyplot\n",
    "* statsmodels.formula.api\n",
    "\n",
    "# Introduction\n",
    "This assignment consists of following tasks:\n",
    "\n",
    "1. Auditing and Cleansing the Job dataset,\n",
    "2. Integrating the Job datasets,\n",
    "3. Finding missing value and fill in the reasonable values,\n",
    "4. Finding the outliers."
   ]
  },
  {
   "cell_type": "markdown",
   "metadata": {},
   "source": [
    "# Task 4. Finding the outliers"
   ]
  },
  {
   "cell_type": "markdown",
   "metadata": {},
   "source": [
    "## 1. Import Libraries"
   ]
  },
  {
   "cell_type": "code",
   "execution_count": null,
   "metadata": {},
   "outputs": [],
   "source": [
    "import warnings\n",
    "warnings.simplefilter(action='ignore', category=FutureWarning)\n",
    "import pandas as pd\n",
    "import seaborn as sns\n",
    "from pylab import rcParams\n",
    "import math\n",
    "import matplotlib.pyplot as plt\n",
    "from sklearn import preprocessing\n",
    "%matplotlib inline\n",
    "plt.style.use('classic')\n",
    "pd.set_option('display.float_format', lambda x: '%.3f'%x)\n",
    "import statsmodels.formula.api as sm\n",
    "from statsmodels.formula.api import ols"
   ]
  },
  {
   "cell_type": "code",
   "execution_count": null,
   "metadata": {},
   "outputs": [],
   "source": [
    "rcParams['figure.figsize']= 20,10\n",
    "sns.set_style('whitegrid')\n",
    "sns.set(color_codes=True)"
   ]
  },
  {
   "cell_type": "markdown",
   "metadata": {},
   "source": [
    "## 2. Read a file"
   ]
  },
  {
   "cell_type": "code",
   "execution_count": null,
   "metadata": {},
   "outputs": [],
   "source": [
    "data4 = pd.read_csv(\"dataset4_with_outliers.csv\")\n",
    "data4.head()"
   ]
  },
  {
   "cell_type": "markdown",
   "metadata": {},
   "source": [
    "## 3. Correlation using a heat map"
   ]
  },
  {
   "cell_type": "code",
   "execution_count": null,
   "metadata": {
    "scrolled": true
   },
   "outputs": [],
   "source": [
    "sns.heatmap(data4.corr(), annot =True)"
   ]
  },
  {
   "cell_type": "markdown",
   "metadata": {},
   "source": [
    "## 4. Log Transformation"
   ]
  },
  {
   "cell_type": "markdown",
   "metadata": {},
   "source": [
    "###### Log Transformation is done to make highly skewed distribution less skewed"
   ]
  },
  {
   "cell_type": "code",
   "execution_count": null,
   "metadata": {},
   "outputs": [],
   "source": [
    "data4['logPrice'] = None\n",
    "i = 0\n",
    "for row in data4.iterrows():\n",
    "    data4['logPrice'].at[i] = math.log(data4[\"price\"][i])\n",
    "    i += 1\n",
    "\n",
    "data4['logLiving'] = None\n",
    "i = 0\n",
    "for row in data4.iterrows():\n",
    "    data4['logLiving'].at[i] = math.log(data4[\"sqft_living\"][i])\n",
    "    i += 1\n",
    "    \n",
    "data4['logLot'] = None\n",
    "i = 0\n",
    "for row in data4.iterrows():\n",
    "    data4['logLot'].at[i] = math.log(data4[\"sqft_lot\"][i])\n",
    "    i += 1\n",
    "    \n",
    "data4['logAbove'] = None\n",
    "i = 0\n",
    "for row in data4.iterrows():\n",
    "    data4['logAbove'].at[i] = math.log(data4[\"sqft_above\"][i])\n",
    "    i += 1\n",
    "    \n",
    "data4['logBathrooms'] = None\n",
    "i = 0\n",
    "for row in data4.iterrows():\n",
    "    data4['logBathrooms'].at[i] = math.log(data4[\"bathrooms\"][i])\n",
    "    i += 1\n",
    "    \n",
    "data4['logBedrooms'] = None\n",
    "i = 0\n",
    "for row in data4.iterrows():\n",
    "    data4['logBedrooms'].at[i] = math.log(data4[\"bedrooms\"][i])\n",
    "    i += 1\n",
    " \n",
    "data4.head()"
   ]
  },
  {
   "cell_type": "markdown",
   "metadata": {},
   "source": [
    "## 5. Z-Score Transformation"
   ]
  },
  {
   "cell_type": "markdown",
   "metadata": {},
   "source": [
    "###### For checking standard deviations and mean"
   ]
  },
  {
   "cell_type": "code",
   "execution_count": null,
   "metadata": {},
   "outputs": [],
   "source": [
    "std_scale = preprocessing.StandardScaler().fit(data4[['logPrice', 'logLiving','logLot','logAbove','logBathrooms','logBedrooms']])\n",
    "df_std = std_scale.transform(data4[['logPrice', 'logLiving','logLot','logAbove','logBathrooms','logBedrooms']]) # an array not a df\n",
    "df_std[0:5]"
   ]
  },
  {
   "cell_type": "code",
   "execution_count": null,
   "metadata": {},
   "outputs": [],
   "source": [
    "print('Mean after standardisation:\\nPrice = {:.2f}, Livings = {:.2f}, Lot = {:.2f}, Above = {:.2f}, Bathrooms = {:.2f}, Bedrooms = {:.2f}'\n",
    "      .format(df_std[:,0].mean(), df_std[:,1].mean(), df_std[:,2].mean(), df_std[:,3].mean(), df_std[:,4].mean(), df_std[:,5].mean()))\n",
    "print('\\nStandard deviation after standardisation:\\nPrice = {:.2f}, Livings = {:.2f}, Lot = {:.2f}, Above = {:.2f}, Bathrooms = {:.2f}, Bedrooms = {:.2f} '\n",
    "      .format(df_std[:,0].std(), df_std[:,1].std(), df_std[:,2].std(), df_std[:,3].std(), df_std[:,4].std(), df_std[:,5].std()))"
   ]
  },
  {
   "cell_type": "markdown",
   "metadata": {},
   "source": [
    "###### Curve for checking if data is normalised or not"
   ]
  },
  {
   "cell_type": "code",
   "execution_count": null,
   "metadata": {},
   "outputs": [],
   "source": [
    "plt.close('all')\n",
    "fig, ((ax1, ax2), (ax3,ax4),(ax5,ax6)) = plt.subplots(nrows=3, ncols=2)\n",
    "sns.distplot(pd.to_numeric(data4['logPrice']), ax= ax1).set_title('Price');\n",
    "sns.distplot(pd.to_numeric(data4['logLiving']), ax= ax2).set_title('Living');\n",
    "sns.distplot(pd.to_numeric(data4['logLot']), ax= ax3).set_title('Lot');\n",
    "sns.distplot(pd.to_numeric(data4['logAbove']), ax= ax4).set_title('Above');\n",
    "sns.distplot(pd.to_numeric(data4['logBathrooms']), ax= ax5).set_title('Bathrooms');\n",
    "sns.distplot(pd.to_numeric(data4['logBedrooms']), ax= ax6).set_title('Bedrooms');\n",
    "plt.tight_layout()\n",
    "plt.show()"
   ]
  },
  {
   "cell_type": "markdown",
   "metadata": {},
   "source": [
    "## 6. Converting into decimal form"
   ]
  },
  {
   "cell_type": "code",
   "execution_count": null,
   "metadata": {},
   "outputs": [],
   "source": [
    "data4['logPrice'] = data4['logPrice'].astype(float)\n",
    "data4['logBedrooms'] = data4['logBedrooms'].astype(float)\n",
    "data4['logLiving'] = data4['logLiving'].astype(float)\n",
    "data4['logLot'] = data4['logLot'].astype(float)\n",
    "data4['logAbove'] = data4['logAbove'].astype(float)\n",
    "data4['logBathrooms'] = data4['logBathrooms'].astype(float)"
   ]
  },
  {
   "cell_type": "markdown",
   "metadata": {},
   "source": [
    "## 7. Checking Outliers\n",
    "- Model is fitted for checking the outliers.\n",
    "- Residual values are then extracted from the model.\n",
    "- Residual values are the differences between the predicted and the actual values\n"
   ]
  },
  {
   "cell_type": "markdown",
   "metadata": {},
   "source": [
    "# Price"
   ]
  },
  {
   "cell_type": "markdown",
   "metadata": {},
   "source": [
    "#### First considering Price and taking variables which have high correlation with it:\n",
    "* Living (Corr : 0.72)\n",
    "* Grade (Corr : 0.71)\n",
    "* Bathrooms (Corr : 0.54)"
   ]
  },
  {
   "cell_type": "markdown",
   "metadata": {},
   "source": [
    "### 1. Living"
   ]
  },
  {
   "cell_type": "code",
   "execution_count": null,
   "metadata": {},
   "outputs": [],
   "source": [
    "# Fitting a model for logPrice and logLiving\n",
    "model = ols(formula = 'logPrice ~ logLiving', data = data4).fit()\n",
    "data_res = data4\n",
    "# Extracting residual values\n",
    "data_res['resid_pl'] = model.resid\n",
    "# Summary of the model\n",
    "model.summary()"
   ]
  },
  {
   "cell_type": "markdown",
   "metadata": {},
   "source": [
    "###### Observations:\n",
    "- R-squared: 0.457"
   ]
  },
  {
   "cell_type": "markdown",
   "metadata": {},
   "source": [
    "###### Boxplot on residual values for extracting the outliers"
   ]
  },
  {
   "cell_type": "code",
   "execution_count": null,
   "metadata": {
    "scrolled": true
   },
   "outputs": [],
   "source": [
    "fig, ax1 = plt.subplots(ncols=1, sharey=True, figsize=(10,5))\n",
    "ax2 = sns.boxplot(data_res['resid_pl'], orient ='h', ax=ax1).set_title('Outliers')\n",
    "plt.show()"
   ]
  },
  {
   "cell_type": "markdown",
   "metadata": {},
   "source": [
    "###### Query applied according to the boxplot"
   ]
  },
  {
   "cell_type": "code",
   "execution_count": null,
   "metadata": {
    "scrolled": true
   },
   "outputs": [],
   "source": [
    "data_res[(data_res['resid_pl'] > 1.0)].sort_values('resid_pl') "
   ]
  },
  {
   "cell_type": "markdown",
   "metadata": {},
   "source": [
    "###### Observations:\n",
    "- Potential Outliers : 8, 1060, 5072, 3777, 8869\n",
    "- Confirmed Outliers : 8, 1060, 5072, 3777, 8869"
   ]
  },
  {
   "cell_type": "markdown",
   "metadata": {},
   "source": [
    "###### Reason for considering them as Outliers:\n",
    "For indices (8, 1060, 5072, 3777, 8869):\n",
    "- Price for sqft_living does not seems valid according to the overall record given.\n",
    "- For index(8): sqft_living is less for high price\n",
    "- For index(1060): sqft_living is less for high price\n",
    "- For index(5072): sqft_living is less for high price\n",
    "- For index(3777): sqft_living is less for high price\n",
    "- For index(8869): sqft_living is less for high price"
   ]
  },
  {
   "cell_type": "markdown",
   "metadata": {},
   "source": [
    "###### Dropping indices containing outliers"
   ]
  },
  {
   "cell_type": "code",
   "execution_count": null,
   "metadata": {},
   "outputs": [],
   "source": [
    "data_res = data_res.drop([8,1060,5072,3777,8869])"
   ]
  },
  {
   "cell_type": "markdown",
   "metadata": {},
   "source": [
    "### 2. Grade"
   ]
  },
  {
   "cell_type": "code",
   "execution_count": null,
   "metadata": {},
   "outputs": [],
   "source": [
    "# Fitting a model for logPrice and grade\n",
    "model = ols(formula = 'logPrice ~ grade', data = data_res).fit()\n",
    "# Extracting residual values\n",
    "data_res['resid_pg'] = model.resid\n",
    "# Summary of the model\n",
    "model.summary()"
   ]
  },
  {
   "cell_type": "markdown",
   "metadata": {},
   "source": [
    "###### Observations:\n",
    "- R-squared: 0.488"
   ]
  },
  {
   "cell_type": "markdown",
   "metadata": {},
   "source": [
    "###### Boxplot on residual values for extracting the outliers"
   ]
  },
  {
   "cell_type": "code",
   "execution_count": null,
   "metadata": {
    "scrolled": true
   },
   "outputs": [],
   "source": [
    "fig, ax1 = plt.subplots(ncols=1, sharey=True, figsize=(10,5))\n",
    "ax2 = sns.boxplot(data_res['resid_pg'], orient ='h', ax=ax1).set_title('Outliers')\n",
    "plt.show()"
   ]
  },
  {
   "cell_type": "code",
   "execution_count": null,
   "metadata": {},
   "outputs": [],
   "source": [
    "data_res[(data_res['resid_pg'] > 1.0)].sort_values('resid_pg').iloc[:,2:19]"
   ]
  },
  {
   "cell_type": "markdown",
   "metadata": {},
   "source": [
    "###### Observations:\n",
    "- Potential Outlier: 1518\n",
    "- Confirmed Outlier: None"
   ]
  },
  {
   "cell_type": "markdown",
   "metadata": {},
   "source": [
    "###### Reason for not considering them as Outliers:\n",
    "- For index (1518): If we see other records, it does not seems to be an outlier."
   ]
  },
  {
   "cell_type": "markdown",
   "metadata": {},
   "source": [
    "### 3. Bathrooms"
   ]
  },
  {
   "cell_type": "code",
   "execution_count": null,
   "metadata": {},
   "outputs": [],
   "source": [
    "model = ols(formula = 'logPrice ~ logBathrooms', data = data_res).fit()\n",
    "data_res['resid_pb'] = model.resid\n",
    "model.summary()"
   ]
  },
  {
   "cell_type": "markdown",
   "metadata": {},
   "source": [
    "###### Boxplot on residual values for extracting the outliers"
   ]
  },
  {
   "cell_type": "code",
   "execution_count": null,
   "metadata": {},
   "outputs": [],
   "source": [
    "fig, ax1 = plt.subplots(ncols=1, sharey=True, figsize=(10,5))\n",
    "ax2 = sns.boxplot(data_res['resid_pb'], orient ='h', ax=ax1).set_title('Outliers')\n",
    "plt.show()"
   ]
  },
  {
   "cell_type": "code",
   "execution_count": null,
   "metadata": {},
   "outputs": [],
   "source": [
    "data_res[(data_res['resid_pb'] > 1.2) | (data_res['resid_pb'] < -1.2)].sort_values('resid_pb') "
   ]
  },
  {
   "cell_type": "markdown",
   "metadata": {},
   "source": [
    "###### Observations:\n",
    "- Potential Outliers:  4691, 5752, 4200, 1881, 1174\n",
    "- Confirmed Outlier: None"
   ]
  },
  {
   "cell_type": "markdown",
   "metadata": {},
   "source": [
    "###### Reason for not considering them as Outliers:\n",
    "- For index ( 4691, 5752, 4200): If we see other records, it does not seems to be an outlier."
   ]
  },
  {
   "cell_type": "markdown",
   "metadata": {},
   "source": [
    "### 4. Above"
   ]
  },
  {
   "cell_type": "code",
   "execution_count": null,
   "metadata": {},
   "outputs": [],
   "source": [
    "model = ols(formula = 'logPrice ~ logAbove', data = data_res).fit()\n",
    "data_res['resid_pa'] = model.resid\n",
    "model.summary()"
   ]
  },
  {
   "cell_type": "markdown",
   "metadata": {},
   "source": [
    "###### Boxplot on residual values for extracting the outliers"
   ]
  },
  {
   "cell_type": "code",
   "execution_count": null,
   "metadata": {},
   "outputs": [],
   "source": [
    "fig, ax1 = plt.subplots(ncols=1, sharey=True, figsize=(10,5))\n",
    "ax2 = sns.boxplot(data_res['resid_pa'], orient ='h', ax=ax1).set_title('Outliers')\n",
    "plt.show()"
   ]
  },
  {
   "cell_type": "code",
   "execution_count": null,
   "metadata": {},
   "outputs": [],
   "source": [
    "data_res[(data_res['resid_pa'] > 1.2)].sort_values('resid_pa') "
   ]
  },
  {
   "cell_type": "markdown",
   "metadata": {},
   "source": [
    "###### Observations:\n",
    "- No outliers could be seen"
   ]
  },
  {
   "cell_type": "markdown",
   "metadata": {},
   "source": [
    "# Bedrooms"
   ]
  },
  {
   "cell_type": "markdown",
   "metadata": {},
   "source": [
    "### 1. Living"
   ]
  },
  {
   "cell_type": "code",
   "execution_count": null,
   "metadata": {},
   "outputs": [],
   "source": [
    "model = ols(formula = 'logBedrooms ~ logLiving', data = data_res).fit()\n",
    "data_res['resid_bl'] = model.resid\n",
    "model.summary()"
   ]
  },
  {
   "cell_type": "markdown",
   "metadata": {},
   "source": [
    "###### Boxplot on residual values for extracting the outliers"
   ]
  },
  {
   "cell_type": "code",
   "execution_count": null,
   "metadata": {},
   "outputs": [],
   "source": [
    "fig, ax1 = plt.subplots(ncols=1, sharey=True, figsize=(10,5))\n",
    "ax2 = sns.boxplot(data_res['resid_bl'], orient ='h', ax=ax1).set_title('Outliers')\n",
    "plt.show()"
   ]
  },
  {
   "cell_type": "code",
   "execution_count": null,
   "metadata": {},
   "outputs": [],
   "source": [
    "data_res[(data_res['resid_bl'] > 1.0) | (data_res['resid_bl'] < -1.0)].sort_values('resid_bl') "
   ]
  },
  {
   "cell_type": "markdown",
   "metadata": {},
   "source": [
    "###### Observations:\n",
    "- Potential Outliers : 2737,9774,2880,7290,161,4846,8004,9655,2610,2019,8619,356,9628,736,9322,3329,3072\n",
    "- Confirmed Outlier: 2737,9774,2880,7290,161,4846,8004,9655,2610,2019,8619,356\n"
   ]
  },
  {
   "cell_type": "markdown",
   "metadata": {},
   "source": [
    "###### Reason for considering them as Outliers:\n",
    "For indices ( 2737,9774,2880,7290,161,4846,8004,9655,2610,2019,8619,356):\n",
    "- Bedrooms for sqft_living does not seems valid according to the overall record given.\n",
    "- For index(2737): sqft_living is more for less bedrooms\n",
    "- For index(9774): sqft_living is less for more bedrooms\n",
    "- For index(2880): sqft_living is less for more bedrooms\n",
    "- For index(7290): sqft_living is less for more bedrooms\n",
    "- For index(161): sqft_living is less for more bedrooms\n",
    "- For index(4846): sqft_living is less for more bedrooms\n",
    "- For index(8004): sqft_living is less for more bedrooms\n",
    "- For index(9655): sqft_living is less for more bedrooms\n",
    "- For index(2610): sqft_living is less for more bedrooms\n",
    "- For index(2019): sqft_living is less for more bedrooms\n",
    "- For index(8619): price is less for such sqft_living\n",
    "- For index(356): price is less for sqft_living"
   ]
  },
  {
   "cell_type": "markdown",
   "metadata": {},
   "source": [
    "###### Dropping indices containing outliers"
   ]
  },
  {
   "cell_type": "code",
   "execution_count": null,
   "metadata": {},
   "outputs": [],
   "source": [
    "data_res = data_res.drop([2737,9774,2880,7290,161,4846,8004,9655,2610,2019,8619,356])"
   ]
  },
  {
   "cell_type": "markdown",
   "metadata": {},
   "source": [
    "# Bathrooms"
   ]
  },
  {
   "cell_type": "markdown",
   "metadata": {},
   "source": [
    "## 1. Living"
   ]
  },
  {
   "cell_type": "code",
   "execution_count": null,
   "metadata": {},
   "outputs": [],
   "source": [
    "model = ols(formula = 'logBathrooms ~ logLiving', data = data_res).fit()\n",
    "data_res['resid_bal'] = model.resid\n",
    "model.summary()"
   ]
  },
  {
   "cell_type": "markdown",
   "metadata": {},
   "source": [
    "###### Boxplot on residual values for extracting the outliers"
   ]
  },
  {
   "cell_type": "code",
   "execution_count": null,
   "metadata": {},
   "outputs": [],
   "source": [
    "fig, ax1 = plt.subplots(ncols=1, sharey=True, figsize=(10,5))\n",
    "ax2 = sns.boxplot(data_res['resid_bal'], orient ='h', ax=ax1).set_title('Outliers')\n",
    "plt.show()"
   ]
  },
  {
   "cell_type": "code",
   "execution_count": null,
   "metadata": {},
   "outputs": [],
   "source": [
    "data_res[(data_res['resid_bal'] > 0.9) | (data_res['resid_bal'] < -1.0)].sort_values('resid_bal') "
   ]
  },
  {
   "cell_type": "markdown",
   "metadata": {},
   "source": [
    "###### Observations:\n",
    "- Potential Outliers: 2907,6358,4827,9280,2574,3166,2513,6074\n",
    "- Confirmed Outliers: 2907,2574"
   ]
  },
  {
   "cell_type": "markdown",
   "metadata": {},
   "source": [
    "###### Reason for considering them as Outliers:\n",
    "For indices (2907,2574):\n",
    "- Bathrooms for sqft_living does not seems valid according to the overall record given.\n",
    "- For index(2907): sqft_living is more for less Bathrooms\n",
    "- For index(2574): sqft_living is less for more Bathrooms"
   ]
  },
  {
   "cell_type": "markdown",
   "metadata": {},
   "source": [
    "###### Dropping indices containing outliers"
   ]
  },
  {
   "cell_type": "code",
   "execution_count": null,
   "metadata": {},
   "outputs": [],
   "source": [
    "data_res = data_res.drop([2907,2574])"
   ]
  },
  {
   "cell_type": "markdown",
   "metadata": {},
   "source": [
    "## 2. Above"
   ]
  },
  {
   "cell_type": "code",
   "execution_count": null,
   "metadata": {},
   "outputs": [],
   "source": [
    "model = ols(formula = 'logBathrooms ~ logAbove', data = data_res).fit()\n",
    "data_res['resid_ba'] = model.resid\n",
    "model.summary()"
   ]
  },
  {
   "cell_type": "markdown",
   "metadata": {},
   "source": [
    "###### Boxplot on residual values for extracting the outliers"
   ]
  },
  {
   "cell_type": "code",
   "execution_count": null,
   "metadata": {},
   "outputs": [],
   "source": [
    "fig, ax1 = plt.subplots(ncols=1, sharey=True, figsize=(10,5))\n",
    "ax2 = sns.boxplot(data_res['resid_ba'], orient ='h', ax=ax1).set_title('Outliers')\n",
    "plt.show()"
   ]
  },
  {
   "cell_type": "code",
   "execution_count": null,
   "metadata": {},
   "outputs": [],
   "source": [
    "data_res[(data_res['resid_ba'] > 0.9) | (data_res['resid_ba'] < -1.0)].sort_values('resid_ba') "
   ]
  },
  {
   "cell_type": "markdown",
   "metadata": {},
   "source": [
    "###### Observations:\n",
    "- Potential Outliers: 2513,6358,3166,9280\n",
    "- Confirmed Outliers: None"
   ]
  },
  {
   "cell_type": "markdown",
   "metadata": {},
   "source": [
    "###### Reason for not considering them as Outliers:\n",
    "- For index (2513,6358,3166,9280): If we see other records, they does not seems to be an outlier."
   ]
  },
  {
   "cell_type": "markdown",
   "metadata": {},
   "source": [
    "## 3. Grade"
   ]
  },
  {
   "cell_type": "code",
   "execution_count": null,
   "metadata": {},
   "outputs": [],
   "source": [
    "model = ols(formula = 'logBathrooms ~ grade', data = data_res).fit()\n",
    "data_res['resid_bag'] = model.resid\n",
    "model.summary()"
   ]
  },
  {
   "cell_type": "markdown",
   "metadata": {},
   "source": [
    "###### Boxplot on residual values for extracting the outliers"
   ]
  },
  {
   "cell_type": "code",
   "execution_count": null,
   "metadata": {},
   "outputs": [],
   "source": [
    "fig, ax1 = plt.subplots(ncols=1, sharey=True, figsize=(10,5))\n",
    "ax2 = sns.boxplot(data_res['resid_bag'], orient ='h', ax=ax1).set_title('Outliers')\n",
    "plt.show()"
   ]
  },
  {
   "cell_type": "code",
   "execution_count": null,
   "metadata": {},
   "outputs": [],
   "source": [
    "data_res[(data_res['resid_bag'] > 0.9) | (data_res['resid_bag'] < -0.9)].sort_values('resid_bag')"
   ]
  },
  {
   "cell_type": "markdown",
   "metadata": {},
   "source": [
    "###### Observations:\n",
    "- Potential Outliers: 717, 3071, 7481, 4193, 2116, 4125, 4504, 9705, 3830, 8696, 1719\n",
    "- Confirmed Outliers: None"
   ]
  },
  {
   "cell_type": "markdown",
   "metadata": {},
   "source": [
    "###### Reason for not considering them as Outliers:\n",
    "- For index (717, 3071, 7481, 4193, 2116, 4125, 4504, 9705, 3830, 8696, 1719): If we see other records, they does not seems to be an outlier."
   ]
  },
  {
   "cell_type": "markdown",
   "metadata": {},
   "source": [
    "## 4. Yr_built"
   ]
  },
  {
   "cell_type": "code",
   "execution_count": null,
   "metadata": {},
   "outputs": [],
   "source": [
    "model = ols(formula = 'logBathrooms ~ yr_built', data = data_res).fit()\n",
    "data_res['resid_bay'] = model.resid\n",
    "model.summary()"
   ]
  },
  {
   "cell_type": "markdown",
   "metadata": {},
   "source": [
    "###### Boxplot on residual values for extracting the outliers"
   ]
  },
  {
   "cell_type": "code",
   "execution_count": null,
   "metadata": {},
   "outputs": [],
   "source": [
    "fig, ax1 = plt.subplots(ncols=1, sharey=True, figsize=(10,5))\n",
    "ax2 = sns.boxplot(data_res['resid_bay'], orient ='h', ax=ax1).set_title('Outliers')\n",
    "plt.show()"
   ]
  },
  {
   "cell_type": "code",
   "execution_count": null,
   "metadata": {},
   "outputs": [],
   "source": [
    "data_res[(data_res['resid_bay'] <= -1.0) | (data_res['resid_bay'] > 1.18)].sort_values('resid_bay').iloc[:,2:17]"
   ]
  },
  {
   "cell_type": "markdown",
   "metadata": {},
   "source": [
    "###### Observations:\n",
    "- Potential Outliers: 3933, 4131, 3657, 1219, 4576\n",
    "- Confirmed Outliers: None"
   ]
  },
  {
   "cell_type": "markdown",
   "metadata": {},
   "source": [
    "# Living"
   ]
  },
  {
   "cell_type": "markdown",
   "metadata": {},
   "source": [
    "### 1. Grade"
   ]
  },
  {
   "cell_type": "code",
   "execution_count": null,
   "metadata": {},
   "outputs": [],
   "source": [
    "model = ols(formula = 'logLiving ~ grade', data = data_res).fit()\n",
    "data_res = data4\n",
    "data_res['resid_lg'] = model.resid\n",
    "model.summary()"
   ]
  },
  {
   "cell_type": "markdown",
   "metadata": {},
   "source": [
    "###### Boxplot on residual values for extracting the outliers"
   ]
  },
  {
   "cell_type": "code",
   "execution_count": null,
   "metadata": {},
   "outputs": [],
   "source": [
    "fig, ax1 = plt.subplots(ncols=1, sharey=True, figsize=(10,5))\n",
    "ax2 = sns.boxplot(data_res['resid_lg'], orient ='h', ax=ax1).set_title('Outliers')\n",
    "plt.show()"
   ]
  },
  {
   "cell_type": "code",
   "execution_count": null,
   "metadata": {},
   "outputs": [],
   "source": [
    "data_res[(data_res['resid_lg'] > 0.9) | (data_res['resid_lg'] < -0.9)].sort_values('resid_lg').iloc[:,2:17]"
   ]
  },
  {
   "cell_type": "markdown",
   "metadata": {},
   "source": [
    "###### Observations:\n",
    "- Confirmed Outliers: None"
   ]
  },
  {
   "cell_type": "markdown",
   "metadata": {},
   "source": [
    "### 2. Above"
   ]
  },
  {
   "cell_type": "code",
   "execution_count": null,
   "metadata": {},
   "outputs": [],
   "source": [
    "model = ols(formula = 'logLiving ~ logAbove', data = data_res).fit()\n",
    "data_res['resid_la'] = model.resid\n",
    "model.summary()"
   ]
  },
  {
   "cell_type": "markdown",
   "metadata": {},
   "source": [
    "###### Boxplot on residual values for extracting the outliers"
   ]
  },
  {
   "cell_type": "code",
   "execution_count": null,
   "metadata": {},
   "outputs": [],
   "source": [
    "fig, ax1 = plt.subplots(ncols=1, sharey=True, figsize=(10,5))\n",
    "ax2 = sns.boxplot(data_res['resid_la'], orient ='h', ax=ax1).set_title('Outliers')\n",
    "plt.show()"
   ]
  },
  {
   "cell_type": "code",
   "execution_count": null,
   "metadata": {
    "scrolled": true
   },
   "outputs": [],
   "source": [
    "data_res[(data_res['resid_la'] > 0.6)].sort_values('sqft_living').iloc[:,2:18]"
   ]
  },
  {
   "cell_type": "markdown",
   "metadata": {},
   "source": [
    "###### Observations:\n",
    "- Potential Outliers: 6498,4900,7669,5642,3755,5970,4827,2268,4828\n",
    "- Confirmed Outliers: 6498,4827"
   ]
  },
  {
   "cell_type": "markdown",
   "metadata": {},
   "source": [
    "###### Reason for considering them as Outliers:\n",
    "For indices (6498,4827):\n",
    "- Living for Above does not seems valid according to the overall record given."
   ]
  },
  {
   "cell_type": "markdown",
   "metadata": {},
   "source": [
    "###### Dropping indices containing outliers"
   ]
  },
  {
   "cell_type": "code",
   "execution_count": null,
   "metadata": {},
   "outputs": [],
   "source": [
    "data_res = data_res.drop([6498,4827])"
   ]
  },
  {
   "cell_type": "markdown",
   "metadata": {},
   "source": [
    "# Floors"
   ]
  },
  {
   "cell_type": "markdown",
   "metadata": {},
   "source": [
    "## 1. Above"
   ]
  },
  {
   "cell_type": "code",
   "execution_count": null,
   "metadata": {},
   "outputs": [],
   "source": [
    "model = ols(formula = 'floors ~ logAbove', data = data_res).fit()\n",
    "data_res['resid_fa'] = model.resid\n",
    "model.summary()"
   ]
  },
  {
   "cell_type": "markdown",
   "metadata": {},
   "source": [
    "###### Boxplot on residual values for extracting the outliers"
   ]
  },
  {
   "cell_type": "code",
   "execution_count": null,
   "metadata": {},
   "outputs": [],
   "source": [
    "fig, ax1 = plt.subplots(ncols=1, sharey=True, figsize=(10,5))\n",
    "ax2 = sns.boxplot(data_res['resid_fa'], orient ='h', ax=ax1).set_title('Outliers')\n",
    "plt.show()"
   ]
  },
  {
   "cell_type": "code",
   "execution_count": null,
   "metadata": {},
   "outputs": [],
   "source": [
    "data_res[(data_res['resid_fa'] > 1.9)].sort_values('resid_fa').iloc[:,2:17]"
   ]
  },
  {
   "cell_type": "markdown",
   "metadata": {},
   "source": [
    "###### Observations:\n",
    "- Potential Outliers: 3840, 7276, 8369, 7502, 4460\n",
    "- Confirmed Outliers: None"
   ]
  },
  {
   "cell_type": "markdown",
   "metadata": {},
   "source": [
    "## 2. Yr_built"
   ]
  },
  {
   "cell_type": "code",
   "execution_count": null,
   "metadata": {},
   "outputs": [],
   "source": [
    "model = ols(formula = 'floors ~ yr_built', data = data_res).fit()\n",
    "data_res['resid_fy'] = model.resid\n",
    "model.summary()"
   ]
  },
  {
   "cell_type": "markdown",
   "metadata": {},
   "source": [
    "###### Boxplot on residual values for extracting the outliers"
   ]
  },
  {
   "cell_type": "code",
   "execution_count": null,
   "metadata": {},
   "outputs": [],
   "source": [
    "fig, ax1 = plt.subplots(ncols=1, sharey=True, figsize=(10,5))\n",
    "ax2 = sns.boxplot(data_res['resid_fy'], orient ='h', ax=ax1).set_title('Outliers')\n",
    "plt.show()"
   ]
  },
  {
   "cell_type": "code",
   "execution_count": null,
   "metadata": {},
   "outputs": [],
   "source": [
    "data_res[(data_res['resid_fy'] > 1.7)].sort_values('resid_fy').iloc[:,2:19] "
   ]
  },
  {
   "cell_type": "markdown",
   "metadata": {},
   "source": [
    "###### Observations:\n",
    "- Potential Outliers: 6856, 4460, 788, 1370\n",
    "- Confirmed Outliers: None"
   ]
  },
  {
   "cell_type": "markdown",
   "metadata": {},
   "source": [
    "# Grade"
   ]
  },
  {
   "cell_type": "markdown",
   "metadata": {},
   "source": [
    "## 1. Above"
   ]
  },
  {
   "cell_type": "code",
   "execution_count": null,
   "metadata": {},
   "outputs": [],
   "source": [
    "model = ols(formula = 'grade ~ logAbove', data = data_res).fit()\n",
    "data_res['resid_ga'] = model.resid\n",
    "model.summary()"
   ]
  },
  {
   "cell_type": "markdown",
   "metadata": {},
   "source": [
    "###### Boxplot on residual values for extracting the outliers"
   ]
  },
  {
   "cell_type": "code",
   "execution_count": null,
   "metadata": {},
   "outputs": [],
   "source": [
    "fig, ax1 = plt.subplots(ncols=1, sharey=True, figsize=(10,5))\n",
    "ax2 = sns.boxplot(data_res['resid_ga'], orient ='h', ax=ax1).set_title('Outliers')\n",
    "plt.show()"
   ]
  },
  {
   "cell_type": "code",
   "execution_count": null,
   "metadata": {},
   "outputs": [],
   "source": [
    "data_res[(data_res['resid_ga'] > 3) | (data_res['resid_ga'] < -3)].sort_values('resid_ga').iloc[:,2:20] "
   ]
  },
  {
   "cell_type": "markdown",
   "metadata": {},
   "source": [
    "###### Observations:\n",
    "- Potential Outliers: 1158, 3077, 3482, 5528, 1881, 793\n",
    "- Confirmed Outliers: None"
   ]
  },
  {
   "cell_type": "markdown",
   "metadata": {},
   "source": [
    "## 8. Dropping indices from the main data"
   ]
  },
  {
   "cell_type": "code",
   "execution_count": null,
   "metadata": {},
   "outputs": [],
   "source": [
    "data4 = data4.drop([8,1060,5072,3777,8869,2737,9774,2880,7290,161,4846,8004,9655,2610,2019,8619,356,2907,2574,6498,4827])"
   ]
  },
  {
   "cell_type": "markdown",
   "metadata": {},
   "source": [
    "## 9. Converting dataframe into CSV file format "
   ]
  },
  {
   "cell_type": "code",
   "execution_count": null,
   "metadata": {},
   "outputs": [],
   "source": [
    "data4.to_csv('./dataset4_solution.csv',encoding='utf-8')"
   ]
  },
  {
   "cell_type": "markdown",
   "metadata": {},
   "source": [
    "## References\n",
    "- Tutorials"
   ]
  },
  {
   "cell_type": "code",
   "execution_count": null,
   "metadata": {},
   "outputs": [],
   "source": []
  }
 ],
 "metadata": {
  "kernelspec": {
   "display_name": "Python 3",
   "language": "python",
   "name": "python3"
  },
  "language_info": {
   "codemirror_mode": {
    "name": "ipython",
    "version": 3
   },
   "file_extension": ".py",
   "mimetype": "text/x-python",
   "name": "python",
   "nbconvert_exporter": "python",
   "pygments_lexer": "ipython3",
   "version": "3.6.4"
  }
 },
 "nbformat": 4,
 "nbformat_minor": 2
}
