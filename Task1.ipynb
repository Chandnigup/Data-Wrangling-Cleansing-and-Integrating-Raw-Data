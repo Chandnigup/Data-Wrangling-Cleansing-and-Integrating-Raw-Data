{
 "cells": [
  {
   "cell_type": "markdown",
   "metadata": {},
   "source": [
       ]
  },
  {
   "cell_type": "markdown",
   "metadata": {},
   "source": [
    
    "\n",
    "Date: Sunday, 13 May 2018 \n",
    "\n"
   ]
  },
  {
   "cell_type": "markdown",
   "metadata": {},
   "source": [
    "# Task1. Auditing and Cleansing the Job dataset"
   ]
  },
  {
   "cell_type": "markdown",
   "metadata": {},
   "source": [
    "## 1. Import Libraries"
   ]
  },
  {
   "cell_type": "code",
   "execution_count": null,
   "metadata": {},
   "outputs": [],
   "source": [
    "import pandas as pd"
   ]
  },
  {
   "cell_type": "markdown",
   "metadata": {},
   "source": [
    "## 2. Read a file"
   ]
  },
  {
   "cell_type": "code",
   "execution_count": null,
   "metadata": {
    "scrolled": true
   },
   "outputs": [],
   "source": [
    "data1 = pd.read_csv(\"dataset1_with_error.csv\")\n",
    "data1.head()"
   ]
  },
  {
   "cell_type": "markdown",
   "metadata": {},
   "source": [
    "###### Describe the data"
   ]
  },
  {
   "cell_type": "code",
   "execution_count": null,
   "metadata": {
    "scrolled": true
   },
   "outputs": [],
   "source": [
    "data1.describe(include = ['O'])"
   ]
  },
  {
   "cell_type": "markdown",
   "metadata": {},
   "source": [
    "###### Length of original data"
   ]
  },
  {
   "cell_type": "code",
   "execution_count": null,
   "metadata": {},
   "outputs": [],
   "source": [
    "original_length = len(data1)"
   ]
  },
  {
   "cell_type": "markdown",
   "metadata": {},
   "source": [
    "## 3. Cleansing the data"
   ]
  },
  {
   "cell_type": "markdown",
   "metadata": {},
   "source": [
    "### Locations"
   ]
  },
  {
   "cell_type": "code",
   "execution_count": null,
   "metadata": {},
   "outputs": [],
   "source": [
    "data1['Location'].value_counts().sort_index().head()"
   ]
  },
  {
   "cell_type": "markdown",
   "metadata": {},
   "source": [
    "###### Cleaning the Locations by correcting their spellings"
   ]
  },
  {
   "cell_type": "code",
   "execution_count": null,
   "metadata": {},
   "outputs": [],
   "source": [
    "data1['Location'] = data1['Location'].replace({\"Surey\":\"Surrey\",\"Oxfords\":\"Oxford\",\"Nottinham\":\"Nottingham\",\"Reeding\":\"Reading\",\"Leads\":\"Leeds\"})"
   ]
  },
  {
   "cell_type": "markdown",
   "metadata": {},
   "source": [
    "###### - Lexical Errors removed"
   ]
  },
  {
   "cell_type": "markdown",
   "metadata": {},
   "source": [
    "### Salary per annum"
   ]
  },
  {
   "cell_type": "code",
   "execution_count": null,
   "metadata": {},
   "outputs": [],
   "source": [
    "data1['Salary per annum'].unique()"
   ]
  },
  {
   "cell_type": "markdown",
   "metadata": {},
   "source": [
    "###### Changing Salary values from '10K' format to '10000' format"
   ]
  },
  {
   "cell_type": "code",
   "execution_count": null,
   "metadata": {},
   "outputs": [],
   "source": [
    "data1['Salary per annum']  = (data1['Salary per annum']).str.replace(r'K', r'000')"
   ]
  },
  {
   "cell_type": "markdown",
   "metadata": {},
   "source": [
    "###### Changing Salary range to its mean for maintaining consistency thorughout the column"
   ]
  },
  {
   "cell_type": "code",
   "execution_count": null,
   "metadata": {},
   "outputs": [],
   "source": [
    "# Splitting 'Salary per annum' column on '-'into two columns\n",
    "data1[['Salary per annum','salary range']] = data1['Salary per annum'].str.split('-',n=1,expand = True)\n",
    "data1['salary range'] = pd.to_numeric(data1['salary range'])\n",
    "data1['Salary per annum'] = pd.to_numeric(data1['Salary per annum'])\n",
    "# Taking mean of both the columns\n",
    "data1['Salary per annum'] = data1[['Salary per annum','salary range']].mean(axis=1)\n",
    "# Dropping the temporary column\n",
    "data1 = data1.drop(columns=['salary range'])\n",
    "#data1.head()"
   ]
  },
  {
   "cell_type": "markdown",
   "metadata": {},
   "source": [
    "###### - Inconsistency and Irregularity removed by making corrections required"
   ]
  },
  {
   "cell_type": "markdown",
   "metadata": {},
   "source": [
    "### Contract Type"
   ]
  },
  {
   "cell_type": "markdown",
   "metadata": {},
   "source": [
    "###### Changing 'not available' Contract Type to 'non-specified' as per the description"
   ]
  },
  {
   "cell_type": "code",
   "execution_count": null,
   "metadata": {},
   "outputs": [],
   "source": [
    "print(data1['ContractType'].unique())\n",
    "# Replace function used\n",
    "data1['ContractType'] = data1['ContractType'].replace({'not available':'non-specified'})\n",
    "print(data1['ContractType'].unique())"
   ]
  },
  {
   "cell_type": "markdown",
   "metadata": {},
   "source": [
    "## Contract Time"
   ]
  },
  {
   "cell_type": "markdown",
   "metadata": {},
   "source": [
    "###### Changing 'not available' Contract Time to 'non-specified' as per the description"
   ]
  },
  {
   "cell_type": "code",
   "execution_count": null,
   "metadata": {},
   "outputs": [],
   "source": [
    "print(data1['ContractTime'].unique())\n",
    "# Replace function used\n",
    "data1['ContractTime'] = data1['ContractTime'].replace({'not available':'non-specified'})\n",
    "print(data1['ContractTime'].unique())"
   ]
  },
  {
   "cell_type": "markdown",
   "metadata": {},
   "source": [
    "### Open Date"
   ]
  },
  {
   "cell_type": "markdown",
   "metadata": {},
   "source": [
    "###### Splitting Open Date into multiple columns for checking its validity (integrity)"
   ]
  },
  {
   "cell_type": "code",
   "execution_count": null,
   "metadata": {},
   "outputs": [],
   "source": [
    "data1['OpenYear'] = data1['OpenDate'].str.slice(0,4)\n",
    "data1['OpenMonth'] = data1['OpenDate'].str.slice(4,6)\n",
    "data1['OpenDay'] = data1['OpenDate'].str.slice(6,8)"
   ]
  },
  {
   "cell_type": "markdown",
   "metadata": {},
   "source": [
    "###### Checking if Month of Open Date is greater than 12"
   ]
  },
  {
   "cell_type": "code",
   "execution_count": null,
   "metadata": {
    "scrolled": true
   },
   "outputs": [],
   "source": [
    "data1[pd.to_numeric(data1['OpenMonth']) > 12]"
   ]
  },
  {
   "cell_type": "markdown",
   "metadata": {},
   "source": [
    "###### Swapping Month and Day if Month is greater than 12"
   ]
  },
  {
   "cell_type": "code",
   "execution_count": null,
   "metadata": {},
   "outputs": [],
   "source": [
    "data1.loc[pd.to_numeric(data1['OpenMonth']) > 12, ['OpenMonth','OpenDay']] = data1.loc[pd.to_numeric(data1['OpenMonth']) > 12, ['OpenDay','OpenMonth']].values\n",
    "data1[pd.to_numeric(data1['OpenMonth']) > 12]"
   ]
  },
  {
   "cell_type": "markdown",
   "metadata": {},
   "source": [
    "###### - Violations of the Integrity constraint checked and removed by making corrections"
   ]
  },
  {
   "cell_type": "markdown",
   "metadata": {},
   "source": [
    "###### Merging columns back to its original form of Open Date"
   ]
  },
  {
   "cell_type": "code",
   "execution_count": null,
   "metadata": {},
   "outputs": [],
   "source": [
    "data1['OpenDate'] = data1['OpenYear']+data1['OpenMonth']+data1['OpenDay']+data1['OpenDate'].str.slice(8,)"
   ]
  },
  {
   "cell_type": "markdown",
   "metadata": {},
   "source": [
    "### Close Date"
   ]
  },
  {
   "cell_type": "markdown",
   "metadata": {},
   "source": [
    "###### Splitting Close Date into multiple columns for checking its validity (integrity)"
   ]
  },
  {
   "cell_type": "code",
   "execution_count": null,
   "metadata": {},
   "outputs": [],
   "source": [
    "data1['CloseYear'] = data1['CloseDate'].str.slice(0,4)\n",
    "data1['CloseMonth'] = data1['CloseDate'].str.slice(4,6)\n",
    "data1['CloseDay'] = data1['CloseDate'].str.slice(6,8)"
   ]
  },
  {
   "cell_type": "markdown",
   "metadata": {},
   "source": [
    "###### Checking if Month of Close Date is greater than 12"
   ]
  },
  {
   "cell_type": "code",
   "execution_count": null,
   "metadata": {
    "scrolled": true
   },
   "outputs": [],
   "source": [
    "data1[pd.to_numeric(data1['CloseMonth']) > 12]"
   ]
  },
  {
   "cell_type": "markdown",
   "metadata": {},
   "source": [
    "###### Merging columns back to its original form of Close Date"
   ]
  },
  {
   "cell_type": "code",
   "execution_count": null,
   "metadata": {},
   "outputs": [],
   "source": [
    "data1['CloseDate'] = data1['CloseYear']+data1['CloseMonth']+data1['CloseDay']+data1['CloseDate'].str.slice(8,)"
   ]
  },
  {
   "cell_type": "code",
   "execution_count": null,
   "metadata": {},
   "outputs": [],
   "source": [
    "data1[(data1['OpenYear']==data1['CloseYear'])& (data1['OpenMonth']==data1['CloseMonth'])& (data1['OpenDay']==data1['CloseDate'])] \n",
    "# No same date so no need to check time"
   ]
  },
  {
   "cell_type": "markdown",
   "metadata": {},
   "source": [
    "###### Dropping temporary columns"
   ]
  },
  {
   "cell_type": "code",
   "execution_count": null,
   "metadata": {},
   "outputs": [],
   "source": [
    "data1 = data1.drop(columns = ['OpenYear','OpenMonth','OpenDay','CloseYear','CloseMonth','CloseDay'])"
   ]
  },
  {
   "cell_type": "code",
   "execution_count": null,
   "metadata": {
    "scrolled": true
   },
   "outputs": [],
   "source": [
    "#data1.head()"
   ]
  },
  {
   "cell_type": "markdown",
   "metadata": {},
   "source": [
    "### Open and Close Date"
   ]
  },
  {
   "cell_type": "markdown",
   "metadata": {},
   "source": [
    "###### Checking if open date is greater than close date and swapping if the condition is true"
   ]
  },
  {
   "cell_type": "code",
   "execution_count": null,
   "metadata": {},
   "outputs": [],
   "source": [
    "for index, row in data1.iterrows():\n",
    "    if row.OpenDate > row.CloseDate:\n",
    "        \n",
    "        tempDate = row.OpenDate\n",
    "        \n",
    "        data1.set_value(index,'OpenDate',row.CloseDate)\n",
    "        data1.set_value(index,'CloseDate',tempDate)\n",
    "        \n",
    "data1[data1['OpenDate'] > data1['CloseDate']]     "
   ]
  },
  {
   "cell_type": "markdown",
   "metadata": {},
   "source": [
    "###### - Violations of the Integrity constraint checked and removed by making corrections"
   ]
  },
  {
   "cell_type": "markdown",
   "metadata": {},
   "source": [
    "### Source Name"
   ]
  },
  {
   "cell_type": "code",
   "execution_count": null,
   "metadata": {},
   "outputs": [],
   "source": [
    "data1['SourceName'].value_counts().head()"
   ]
  },
  {
   "cell_type": "markdown",
   "metadata": {},
   "source": [
    "###### - Assuming Source Name could not have email address"
   ]
  },
  {
   "cell_type": "markdown",
   "metadata": {},
   "source": [
    "###### SourceName = 'admin@caterer.com' "
   ]
  },
  {
   "cell_type": "code",
   "execution_count": null,
   "metadata": {
    "scrolled": true
   },
   "outputs": [],
   "source": [
    "# Checking values of the row containing 'admin@caterer.com' as a source name\n",
    "data1[data1['SourceName'] == 'admin@caterer.com']"
   ]
  },
  {
   "cell_type": "markdown",
   "metadata": {},
   "source": [
    "###### Observation:\n",
    "Row with source name 'admin@caterer.com' contain 'Blu Digital' as a company name"
   ]
  },
  {
   "cell_type": "markdown",
   "metadata": {},
   "source": [
    "###### Checking other records with the same company name"
   ]
  },
  {
   "cell_type": "code",
   "execution_count": null,
   "metadata": {
    "scrolled": true
   },
   "outputs": [],
   "source": [
    "data1[(data1['Company'] == 'Blu Digital')]"
   ]
  },
  {
   "cell_type": "markdown",
   "metadata": {},
   "source": [
    "###### Replacing source name 'admin@caterer.com' with the source name in other records, consisting of 'Blu Digital' as a company name"
   ]
  },
  {
   "cell_type": "code",
   "execution_count": null,
   "metadata": {},
   "outputs": [],
   "source": [
    "for index, row in data1.iterrows():\n",
    "    if (row.SourceName  != 'admin@caterer.com') & (row.Company == 'Blu Digital'):\n",
    "        tempSource = row.SourceName\n",
    "    \n",
    "    if (row.SourceName  == 'admin@caterer.com') & (row.Company == 'Blu Digital'):\n",
    "        data1.set_value(index,'SourceName',tempSource)\n",
    "data1[data1['Company'] == 'Blu Digital']\n",
    "        "
   ]
  },
  {
   "cell_type": "markdown",
   "metadata": {},
   "source": [
    "###### - Assuming Source Name should have .com at the end"
   ]
  },
  {
   "cell_type": "markdown",
   "metadata": {},
   "source": [
    "###### SourceName = 'jobcareer'"
   ]
  },
  {
   "cell_type": "code",
   "execution_count": null,
   "metadata": {},
   "outputs": [],
   "source": [
    "# Checking values of the row containing 'jobcareer' as a source name\n",
    "data1[data1['SourceName'] == 'jobcareer']"
   ]
  },
  {
   "cell_type": "markdown",
   "metadata": {},
   "source": [
    "###### Observation:\n",
    "Row with source name 'jobcareer' contain 'Brightwater Group' as a company name"
   ]
  },
  {
   "cell_type": "markdown",
   "metadata": {},
   "source": [
    "###### Checking other records with the same company name"
   ]
  },
  {
   "cell_type": "code",
   "execution_count": null,
   "metadata": {},
   "outputs": [],
   "source": [
    "data1[(data1['Company'] == 'Brightwater Group')]"
   ]
  },
  {
   "cell_type": "markdown",
   "metadata": {},
   "source": [
    "###### Replacing source name 'jobcareer' with the source name in other records, consisting of 'Brightwater Group' as a company name"
   ]
  },
  {
   "cell_type": "code",
   "execution_count": null,
   "metadata": {},
   "outputs": [],
   "source": [
    "for index, row in data1.iterrows():\n",
    "    if (row.SourceName  != 'jobcareer') & (row.Company == 'Brightwater Group'):\n",
    "        tempSource = row.SourceName\n",
    "    \n",
    "    if (row.SourceName  == 'jobcareer') & (row.Company == 'Brightwater Group'):\n",
    "        data1.set_value(index,'SourceName',tempSource)\n",
    "data1[data1['Company'] == 'Brightwater Group']\n",
    "        "
   ]
  },
  {
   "cell_type": "markdown",
   "metadata": {},
   "source": [
    "###### SourceName = 'monashstudent'"
   ]
  },
  {
   "cell_type": "code",
   "execution_count": null,
   "metadata": {},
   "outputs": [],
   "source": [
    "# Checking values of the row containing 'monashstudent' as a source name\n",
    "data1[data1['SourceName'] == 'monashstudent']"
   ]
  },
  {
   "cell_type": "markdown",
   "metadata": {},
   "source": [
    "###### Observation:\n",
    "Row with source name 'monashstudent' contain 'The A24 Group' as a company name"
   ]
  },
  {
   "cell_type": "markdown",
   "metadata": {},
   "source": [
    "###### Checking other records with the same company name"
   ]
  },
  {
   "cell_type": "code",
   "execution_count": null,
   "metadata": {},
   "outputs": [],
   "source": [
    "data1[(data1['Company'] == 'The A24 Group')]"
   ]
  },
  {
   "cell_type": "markdown",
   "metadata": {},
   "source": [
    "###### Replacing source name 'monashstudent' with the source name in other records, consisting of 'The A24 Group' as a company name"
   ]
  },
  {
   "cell_type": "code",
   "execution_count": null,
   "metadata": {},
   "outputs": [],
   "source": [
    "for index, row in data1.iterrows():\n",
    "    if (row.SourceName  != 'monashstudent') & (row.Company == 'The A24 Group'):\n",
    "        tempSource = row.SourceName\n",
    "    \n",
    "    if (row.SourceName  == 'monashstudent') & (row.Company == 'The A24 Group'):\n",
    "        print(tempSource)\n",
    "        data1.set_value(index,'SourceName',tempSource)\n",
    "data1[data1['Company'] == 'The A24 Group']\n",
    "        "
   ]
  },
  {
   "cell_type": "markdown",
   "metadata": {},
   "source": [
    "###### - Inconsistency is removed"
   ]
  },
  {
   "cell_type": "markdown",
   "metadata": {},
   "source": [
    "### Company"
   ]
  },
  {
   "cell_type": "code",
   "execution_count": null,
   "metadata": {},
   "outputs": [],
   "source": [
    "company1 = data1['Company'].value_counts()\n",
    "company1.sort_index().head()"
   ]
  },
  {
   "cell_type": "code",
   "execution_count": null,
   "metadata": {
    "scrolled": true
   },
   "outputs": [],
   "source": [
    "# Checking values of the row containing '.' as a Company\n",
    "data1[data1['Company'] == '.']"
   ]
  },
  {
   "cell_type": "markdown",
   "metadata": {},
   "source": [
    "###### Observation:\n",
    "Row with Company  '.'  contain 'PR, Advertising & Marketing Jobs' as a Category, 'UK' as a Location and 'jobstoday.co.uk' as a Source Name"
   ]
  },
  {
   "cell_type": "markdown",
   "metadata": {},
   "source": [
    "###### Checking other records with the same specifications"
   ]
  },
  {
   "cell_type": "code",
   "execution_count": null,
   "metadata": {
    "scrolled": false
   },
   "outputs": [],
   "source": [
    "data1[(data1['Category'] == 'PR, Advertising & Marketing Jobs') & (data1['Location'] == 'UK') & (data1['SourceName'] == 'jobstoday.co.uk')]"
   ]
  },
  {
   "cell_type": "markdown",
   "metadata": {},
   "source": [
    "###### Replacing company '.' with the company in other records, consisting of 'PR, Advertising & Marketing Jobs' as a Category, 'UK' as a location \n",
    "###### and 'jobstoday.co.uk' as a Source Name"
   ]
  },
  {
   "cell_type": "code",
   "execution_count": null,
   "metadata": {},
   "outputs": [],
   "source": [
    "for index, row in data1.iterrows():\n",
    "    \n",
    "    if (row.Company != '.') & (row.Category == 'PR, Advertising & Marketing Jobs') & (row.Location == 'UK') & (row.SourceName == 'jobstoday.co.uk'):\n",
    "        tempCompany = row.Company\n",
    "        \n",
    "    if row.Company == '.':\n",
    "        data1.set_value(index,'Company',tempCompany)\n",
    "#data1[data1['Company'] == '.']"
   ]
  },
  {
   "cell_type": "markdown",
   "metadata": {},
   "source": [
    "###### Making basic changes in the whole column"
   ]
  },
  {
   "cell_type": "code",
   "execution_count": null,
   "metadata": {},
   "outputs": [],
   "source": [
    "# Convert Company to upper case\n",
    "data1['Company'] = data1['Company'].str.upper()\n",
    "# Replace double spaces from a single space\n",
    "data1['Company'] = data1['Company'].str.replace('  ',' ')\n",
    "# Again replace double spaces from a single space\n",
    "data1['Company'] = data1['Company'].str.replace('  ',' ')\n",
    "# Remove leading and trailing spaces\n",
    "data1['Company'] = data1['Company'].str.strip()\n",
    "# Remove special characters at the start\n",
    "data1['Company'] = data1['Company'].str.lstrip('.,;-:')\n",
    "# Remove special characters at the end\n",
    "data1['Company'] = data1['Company'].str.rstrip(',;-:')\n",
    "# Again remove leading and trailing spaces\n",
    "data1['Company'] = data1['Company'].str.strip()\n",
    "# Replace LIMITED with LTD\n",
    "data1['Company'] = data1['Company'].str.replace('LIMITED','LTD')\n",
    "# Replace LIMITED. with LTD\n",
    "data1['Company'] = data1['Company'].str.replace('LIMITED.','LTD')\n",
    "# Replace LTD. with LTD\n",
    "data1['Company'] = data1['Company'].str.replace('LTD.','LTD')\n",
    "company1 = data1['Company'].value_counts()\n",
    "company1 = company1.sort_index()\n",
    "#company1"
   ]
  },
  {
   "cell_type": "code",
   "execution_count": null,
   "metadata": {},
   "outputs": [],
   "source": [
    "data1['Company'].value_counts().sort_index().head()"
   ]
  },
  {
   "cell_type": "markdown",
   "metadata": {},
   "source": [
    "### Title"
   ]
  },
  {
   "cell_type": "code",
   "execution_count": null,
   "metadata": {},
   "outputs": [],
   "source": [
    "#data1['Title'].value_counts().sort_index().head()"
   ]
  },
  {
   "cell_type": "markdown",
   "metadata": {},
   "source": [
    "###### Making basic changes in the whole column"
   ]
  },
  {
   "cell_type": "code",
   "execution_count": null,
   "metadata": {},
   "outputs": [],
   "source": [
    "# Remove leading and trailing spaces\n",
    "data1['Title'] = data1['Title'].str.strip()\n",
    "# Remove special characters at the start\n",
    "data1['Title'] = data1['Title'].str.lstrip('.,;-:')\n",
    "# Remove special characters at the end\n",
    "data1['Title'] = data1['Title'].str.rstrip(',;-:')\n",
    "# Again remove leading and trailing spaces\n",
    "data1['Title'] = data1['Title'].str.strip()"
   ]
  },
  {
   "cell_type": "markdown",
   "metadata": {},
   "source": [
    "###### Length of New Data"
   ]
  },
  {
   "cell_type": "code",
   "execution_count": null,
   "metadata": {},
   "outputs": [],
   "source": [
    "new_length = len(data1)\n",
    "print(\"Original Length:\", original_length, \"\\t\", \"New Length:\", new_length)"
   ]
  },
  {
   "cell_type": "markdown",
   "metadata": {},
   "source": [
    "## 4. Converting dataframe into CSV file format"
   ]
  },
  {
   "cell_type": "code",
   "execution_count": null,
   "metadata": {},
   "outputs": [],
   "source": [
    "data1.to_csv('./dataset1_solution.csv',encoding='utf-8')"
   ]
  },
  {
   "cell_type": "markdown",
   "metadata": {},
   "source": [
    "## Summary\n",
    "* Lexical errors : Location\n",
    "* Irregularities : "
   ]
  },
  {
   "cell_type": "markdown",
   "metadata": {},
   "source": [
    "## References\n",
    "* Tutorial Week 4"
   ]
  },
  {
   "cell_type": "code",
   "execution_count": null,
   "metadata": {},
   "outputs": [],
   "source": []
  }
 ],
 "metadata": {
  "kernelspec": {
   "display_name": "Python 3",
   "language": "python",
   "name": "python3"
  },
  "language_info": {
   "codemirror_mode": {
    "name": "ipython",
    "version": 3
   },
   "file_extension": ".py",
   "mimetype": "text/x-python",
   "name": "python",
   "nbconvert_exporter": "python",
   "pygments_lexer": "ipython3",
   "version": "3.6.4"
  }
 },
 "nbformat": 4,
 "nbformat_minor": 2
}
