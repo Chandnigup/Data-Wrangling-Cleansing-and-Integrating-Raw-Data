{
 "cells": [
  {
   "cell_type": "markdown",
   "metadata": {},
   "source": [
    "# Cleansing and Integrating Raw Data Task 2"
   ]
  },
  {
   "cell_type": "markdown",
   "metadata": {},
   "source": [
    
    "\n",
    "Date: Sunday, 13 May 2018 \n",
    "\n",
    "Environment: Python 3.6.4 and Anaconda3-5.1.0 (64-bit)\n",
    "\n",
    "Libraries used:\n",
    "* pandas 0.22.0 (for data frame, included in Anaconda Python 3.6) \n",
    "\n",
    "\n",
    "# Introduction\n",
    "This assignment consists of following tasks:\n",
    "\n",
    "1. Auditing and Cleansing the Job dataset,\n",
    "2. Integrating the Job datasets,\n",
    "3. Finding missing value and fill in the reasonable values,\n",
    "4. Finding the outliers."
   ]
  },
  {
   "cell_type": "markdown",
   "metadata": {},
   "source": [
    "# Task2. Integrating the Job datasets"
   ]
  },
  {
   "cell_type": "markdown",
   "metadata": {},
   "source": [
    "### 1. Import Libraries"
   ]
  },
  {
   "cell_type": "code",
   "execution_count": null,
   "metadata": {},
   "outputs": [],
   "source": [
    "import pandas as pd"
   ]
  },
  {
   "cell_type": "markdown",
   "metadata": {},
   "source": [
    "### 2. Read a dataset1"
   ]
  },
  {
   "cell_type": "code",
   "execution_count": null,
   "metadata": {},
   "outputs": [],
   "source": [
    "data1 = pd.read_csv('dataset1_solution.csv')\n",
    "data1 = data1.drop(columns = ['Unnamed: 0'])\n",
    "data1.head()"
   ]
  },
  {
   "cell_type": "markdown",
   "metadata": {},
   "source": [
    "### 3. Read a dataset2"
   ]
  },
  {
   "cell_type": "code",
   "execution_count": null,
   "metadata": {
    "scrolled": false
   },
   "outputs": [],
   "source": [
    "data2 = pd.read_csv(\"dataset2_integration.csv\")\n",
    "data2.head()"
   ]
  },
  {
   "cell_type": "markdown",
   "metadata": {},
   "source": [
    "## Step 1: Resolving schema conflicts and merging data:"
   ]
  },
  {
   "cell_type": "markdown",
   "metadata": {},
   "source": [
    "### 4. Finding schema conflicts and resolving them"
   ]
  },
  {
   "cell_type": "markdown",
   "metadata": {},
   "source": [
    "### Contract Type"
   ]
  },
  {
   "cell_type": "markdown",
   "metadata": {},
   "source": [
    "#### Displaying the unique values of Contract Type of data1"
   ]
  },
  {
   "cell_type": "code",
   "execution_count": null,
   "metadata": {},
   "outputs": [],
   "source": [
    "data1['ContractType'].unique()"
   ]
  },
  {
   "cell_type": "markdown",
   "metadata": {},
   "source": [
    "#### Displaying the unique values of Contract Type of data2"
   ]
  },
  {
   "cell_type": "code",
   "execution_count": null,
   "metadata": {},
   "outputs": [],
   "source": [
    "data2['Contract Type'].unique()"
   ]
  },
  {
   "cell_type": "markdown",
   "metadata": {},
   "source": [
    "#### Replacing values of Contract Type in data2 with the values in data1"
   ]
  },
  {
   "cell_type": "code",
   "execution_count": null,
   "metadata": {},
   "outputs": [],
   "source": [
    "data2['Contract Type'] = data2['Contract Type'].replace({'ft':'full_time','n/a':'non-specified','pt':'part_time'})\n",
    "data2['Contract Type'] = data2['Contract Type'].fillna('non-specified')\n",
    "#data2.head()"
   ]
  },
  {
   "cell_type": "markdown",
   "metadata": {},
   "source": [
    "### Contract Time"
   ]
  },
  {
   "cell_type": "markdown",
   "metadata": {},
   "source": [
    "#### Displaying the unique values of Contract Time of data1"
   ]
  },
  {
   "cell_type": "code",
   "execution_count": null,
   "metadata": {},
   "outputs": [],
   "source": [
    "data1['ContractTime'].unique()"
   ]
  },
  {
   "cell_type": "markdown",
   "metadata": {},
   "source": [
    "#### Displaying the unique values of Contract Time of data2"
   ]
  },
  {
   "cell_type": "code",
   "execution_count": null,
   "metadata": {
    "scrolled": true
   },
   "outputs": [],
   "source": [
    "data2['Contract Time'].unique()"
   ]
  },
  {
   "cell_type": "markdown",
   "metadata": {},
   "source": [
    "#### Replacing values of Contract Time in data2 with the values in data1"
   ]
  },
  {
   "cell_type": "code",
   "execution_count": null,
   "metadata": {},
   "outputs": [],
   "source": [
    "data2['Contract Time'] = data2['Contract Time'].replace({'perm.':'permanent','n/a':'non-specified','contr.':'contract'})\n",
    "data2['Contract Time'] = data2['Contract Time'].fillna('non-specified')\n",
    "#data2.head()"
   ]
  },
  {
   "cell_type": "markdown",
   "metadata": {},
   "source": [
    "### Open Date"
   ]
  },
  {
   "cell_type": "markdown",
   "metadata": {},
   "source": [
    "#### Converting Open Date from standard format to the given string format in data1"
   ]
  },
  {
   "cell_type": "code",
   "execution_count": null,
   "metadata": {},
   "outputs": [],
   "source": [
    "data2['OpenDate'] = data2['OpenDate'].str.slice(0,4) + data2['OpenDate'].str.slice(5,7) + data2['OpenDate'].str.slice(8,10) + 'T' + data2['OpenDate'].str.slice(11,13) + data2['OpenDate'].str.slice(14,16) + data2['OpenDate'].str.slice(17,19)"
   ]
  },
  {
   "cell_type": "markdown",
   "metadata": {},
   "source": [
    "### Close Date"
   ]
  },
  {
   "cell_type": "markdown",
   "metadata": {},
   "source": [
    "#### Converting Close Date from standard format to the given string format in data1"
   ]
  },
  {
   "cell_type": "code",
   "execution_count": null,
   "metadata": {},
   "outputs": [],
   "source": [
    "data2['CloseDate'] = data2['CloseDate'].str.slice(0,4) + data2['CloseDate'].str.slice(5,7) + data2['CloseDate'].str.slice(8,10) + 'T' + data2['CloseDate'].str.slice(11,13) + data2['CloseDate'].str.slice(14,16) + data2['CloseDate'].str.slice(17,19)"
   ]
  },
  {
   "cell_type": "markdown",
   "metadata": {},
   "source": [
    "### Salary"
   ]
  },
  {
   "cell_type": "markdown",
   "metadata": {},
   "source": [
    "#### Changing Monthly salary to Annual Salary by multiplying it by 12 and renaming the column accordingly"
   ]
  },
  {
   "cell_type": "code",
   "execution_count": null,
   "metadata": {},
   "outputs": [],
   "source": [
    "data2['Salary per month'] = data2['Salary per month']*12\n",
    "data2 = data2.rename(columns = {'Salary per month':'Salary per annum'})"
   ]
  },
  {
   "cell_type": "markdown",
   "metadata": {},
   "source": [
    "### Category"
   ]
  },
  {
   "cell_type": "markdown",
   "metadata": {},
   "source": [
    "#### Displaying the unique values of Category of data1"
   ]
  },
  {
   "cell_type": "code",
   "execution_count": null,
   "metadata": {
    "scrolled": true
   },
   "outputs": [],
   "source": [
    "data1['Category'].unique()"
   ]
  },
  {
   "cell_type": "markdown",
   "metadata": {},
   "source": [
    "#### Displaying the unique values of Category of data2"
   ]
  },
  {
   "cell_type": "code",
   "execution_count": null,
   "metadata": {},
   "outputs": [],
   "source": [
    "data2['Category'].unique()"
   ]
  },
  {
   "cell_type": "markdown",
   "metadata": {},
   "source": [
    "#### Comparing and replacing value of Category in data2 with the value in data1"
   ]
  },
  {
   "cell_type": "code",
   "execution_count": null,
   "metadata": {},
   "outputs": [],
   "source": [
    "data2['Category'] = data2['Category'].replace({'Finance & Accounting Jobs':'Accounting & Finance Jobs'})"
   ]
  },
  {
   "cell_type": "markdown",
   "metadata": {},
   "source": [
    "### Title"
   ]
  },
  {
   "cell_type": "code",
   "execution_count": null,
   "metadata": {},
   "outputs": [],
   "source": [
    "# Remove leading and trailing spaces\n",
    "data2['Title'] = data2['Title'].str.strip()\n",
    "# Remove special characters at the start\n",
    "data2['Title'] = data2['Title'].str.lstrip('.,;-:')\n",
    "# Remove special characters at the end\n",
    "data2['Title'] = data2['Title'].str.rstrip(',;-:')\n",
    "# Again remove leading and trailing spaces\n",
    "data2['Title'] = data2['Title'].str.strip()"
   ]
  },
  {
   "cell_type": "markdown",
   "metadata": {},
   "source": [
    "### Company"
   ]
  },
  {
   "cell_type": "code",
   "execution_count": null,
   "metadata": {},
   "outputs": [],
   "source": [
    "data2['Company'].value_counts().sort_index().head()"
   ]
  },
  {
   "cell_type": "code",
   "execution_count": null,
   "metadata": {},
   "outputs": [],
   "source": [
    "# Convert Company to upper case\n",
    "data2['Company'] = data2['Company'].str.upper()\n",
    "# Replace double spaces from a single space\n",
    "data2['Company'] = data2['Company'].str.replace('  ',' ')\n",
    "# Again replace double spaces from a single space\n",
    "data2['Company'] = data2['Company'].str.replace('  ',' ')\n",
    "# Remove leading and trailing spaces\n",
    "data2['Company'] = data2['Company'].str.strip()\n",
    "# Remove special characters at the start\n",
    "data2['Company'] = data2['Company'].str.lstrip('.,;-:')\n",
    "# Remove special characters at the end\n",
    "data2['Company'] = data2['Company'].str.rstrip(',;-:')\n",
    "# Replace LIMITED with LTD\n",
    "data2['Company'] = data2['Company'].str.replace('LIMITED','LTD')\n",
    "# Replace LTD. with LTD\n",
    "data2['Company'] = data2['Company'].str.replace('LTD.','LTD')"
   ]
  },
  {
   "cell_type": "code",
   "execution_count": null,
   "metadata": {},
   "outputs": [],
   "source": [
    "data2['Company'].value_counts().sort_index().head()"
   ]
  },
  {
   "cell_type": "markdown",
   "metadata": {},
   "source": [
    "### 5. Making Column Names of data2 same as that of data1"
   ]
  },
  {
   "cell_type": "code",
   "execution_count": null,
   "metadata": {},
   "outputs": [],
   "source": [
    "data2 = data2.rename(columns = {'Source Name':'SourceName','location':'Location','Contract Type':'ContractType','Contract Time':'ContractTime'})"
   ]
  },
  {
   "cell_type": "code",
   "execution_count": null,
   "metadata": {
    "scrolled": false
   },
   "outputs": [],
   "source": [
    "# Reordering the columns\n",
    "data2 = data2[['Id','Title','Location','ContractType','ContractTime','Company','Category','Salary per annum','SourceName','OpenDate','CloseDate']]"
   ]
  },
  {
   "cell_type": "markdown",
   "metadata": {},
   "source": [
    "### 6. Integration of data1 and data2"
   ]
  },
  {
   "cell_type": "markdown",
   "metadata": {},
   "source": [
    "###### Concatenating two dataframes data1 and data2"
   ]
  },
  {
   "cell_type": "code",
   "execution_count": null,
   "metadata": {
    "scrolled": false
   },
   "outputs": [],
   "source": [
    "data1_data2 = pd.concat([data1,data2],axis=0)\n",
    "data1_data2.head()"
   ]
  },
  {
   "cell_type": "markdown",
   "metadata": {},
   "source": [
    "## Step 2: Resolving data conflicts:"
   ]
  },
  {
   "cell_type": "markdown",
   "metadata": {},
   "source": [
    "###### Dropping Duplicate rows considering Title, Location, Company, OpenDate as a Global Key"
   ]
  },
  {
   "cell_type": "code",
   "execution_count": null,
   "metadata": {},
   "outputs": [],
   "source": [
    "dataset1_dataset2 = data1_data2.drop_duplicates(subset = ['Title', 'Location', 'Company', 'OpenDate'], keep = 'first')"
   ]
  },
  {
   "cell_type": "code",
   "execution_count": null,
   "metadata": {},
   "outputs": [],
   "source": [
    "dataset1_dataset2.head()"
   ]
  },
  {
   "cell_type": "markdown",
   "metadata": {},
   "source": [
    "### Global Key\n",
    "- Global key is taken as Title, location, company and open date because it completely describes the record which fulfills the requiremnet of the global key."
   ]
  },
  {
   "cell_type": "markdown",
   "metadata": {},
   "source": [
    "## 7. Converting dataframe into CSV file format "
   ]
  },
  {
   "cell_type": "code",
   "execution_count": null,
   "metadata": {},
   "outputs": [],
   "source": [
    "dataset1_dataset2.to_csv('./dataset1_dataset2_solution.csv',encoding='utf-8')"
   ]
  },
  {
   "cell_type": "markdown",
   "metadata": {},
   "source": [
    "## References\n",
    "- Tutorials"
   ]
  },
  {
   "cell_type": "code",
   "execution_count": null,
   "metadata": {},
   "outputs": [],
   "source": []
  }
 ],
 "metadata": {
  "kernelspec": {
   "display_name": "Python 3",
   "language": "python",
   "name": "python3"
  },
  "language_info": {
   "codemirror_mode": {
    "name": "ipython",
    "version": 3
   },
   "file_extension": ".py",
   "mimetype": "text/x-python",
   "name": "python",
   "nbconvert_exporter": "python",
   "pygments_lexer": "ipython3",
   "version": "3.6.4"
  }
 },
 "nbformat": 4,
 "nbformat_minor": 2
}
